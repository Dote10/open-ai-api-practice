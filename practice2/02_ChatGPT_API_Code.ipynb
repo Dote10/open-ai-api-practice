{
 "cells": [
  {
   "cell_type": "markdown",
   "metadata": {},
   "source": [
    "패키지 불러오기"
   ]
  },
  {
   "cell_type": "code",
   "execution_count": 63,
   "metadata": {},
   "outputs": [],
   "source": [
    "import openai\n"
   ]
  },
  {
   "cell_type": "markdown",
   "metadata": {},
   "source": [
    "API 키 지정하기"
   ]
  },
  {
   "cell_type": "code",
   "execution_count": 64,
   "metadata": {},
   "outputs": [],
   "source": [
    "openai.api_key = \"접근 ㅋ;\""
   ]
  },
  {
   "cell_type": "markdown",
   "metadata": {},
   "source": [
    "기본 질문하기"
   ]
  },
  {
   "cell_type": "code",
   "execution_count": 65,
   "metadata": {},
   "outputs": [],
   "source": [
    "response = openai.chat.completions.create(\n",
    "    model=\"gpt-3.5-turbo\",\n",
    "    messages=[{\"role\":\"user\", \"content\": \"Tell me briefly how to make a pizza\"}]\n",
    "    response_format=\n",
    ")"
   ]
  },
  {
   "cell_type": "code",
   "execution_count": 110,
   "metadata": {},
   "outputs": [
    {
     "name": "stdout",
     "output_type": "stream",
     "text": [
      "To make a pizza, you will need the following ingredients: pizza dough or premade pizza crust, pizza sauce, cheese, toppings of your choice (such as pepperoni, vegetables, or chicken), and optionally, some herbs and spices like oregano or basil.\n",
      "\n",
      "1. Preheat your oven to the temperature specified on the pizza dough packaging (usually around 425-475°F or 220-240°C).\n",
      "2. Roll out your pizza dough on a floured surface or place your premade pizza crust on a baking sheet.\n",
      "3. Spread a thin layer of pizza sauce over the dough or crust, leaving a small border around the edges.\n",
      "4. Sprinkle a generous amount of cheese evenly over the sauce. You can use mozzarella, cheddar, or any other type of cheese you prefer.\n",
      "5. Add your desired toppings, distributing them evenly across the pizza. Be creative and use your favorite ingredients!\n",
      "6. If desired, sprinkle some herbs and spices over the top for extra flavor.\n",
      "7. Carefully transfer the pizza to a baking sheet or pizza stone if using raw dough.\n",
      "8. Place the pizza in the preheated oven and bake for the recommended time, usually around 12-15 minutes or until the crust is golden brown and the cheese has melted and started to bubble.\n",
      "9. Once cooked, remove the pizza from the oven, let it cool for a few minutes, then slice and enjoy your delicious homemade pizza!\n"
     ]
    }
   ],
   "source": [
    "\n",
    "print(response.choices[0].message.content)"
   ]
  }
 ],
 "metadata": {
  "kernelspec": {
   "display_name": "practice2_env",
   "language": "python",
   "name": "python3"
  },
  "language_info": {
   "codemirror_mode": {
    "name": "ipython",
    "version": 3
   },
   "file_extension": ".py",
   "mimetype": "text/x-python",
   "name": "python",
   "nbconvert_exporter": "python",
   "pygments_lexer": "ipython3",
   "version": "3.12.1"
  }
 },
 "nbformat": 4,
 "nbformat_minor": 2
}
